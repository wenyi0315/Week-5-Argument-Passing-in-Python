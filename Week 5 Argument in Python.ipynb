{
 "cells": [
  {
   "cell_type": "markdown",
   "id": "144540d9",
   "metadata": {},
   "source": [
    "# Postional Arguments\n"
   ]
  },
  {
   "cell_type": "code",
   "execution_count": 2,
   "id": "43175684",
   "metadata": {},
   "outputs": [
    {
     "name": "stdout",
     "output_type": "stream",
     "text": [
      "Alice is enrolled in Mathematics class.\n"
     ]
    }
   ],
   "source": [
    "def student_information(class_name, student_name):\n",
    "    print(student_name + \" is enrolled in \" + class_name + \" class.\")\n",
    "student_information('Mathematics','Alice')"
   ]
  },
  {
   "cell_type": "code",
   "execution_count": 3,
   "id": "d9dce62a",
   "metadata": {},
   "outputs": [
    {
     "name": "stdout",
     "output_type": "stream",
     "text": [
      "Alice is enrolled in Mathematics class.\n"
     ]
    }
   ],
   "source": [
    "def student_information(class_name, student_name):\n",
    "    print(student_name + \" is enrolled in \" + class_name + \" class.\")\n",
    "student_information(class_name='Mathematics', student_name='Alice')"
   ]
  },
  {
   "cell_type": "code",
   "execution_count": 10,
   "id": "442f531a",
   "metadata": {},
   "outputs": [
    {
     "name": "stdout",
     "output_type": "stream",
     "text": [
      "Student Name: Lina\n",
      "Enrolled Course: Introduction to Python\n",
      "Student Name: Sara\n",
      "Enrolled Course: Data Structures\n"
     ]
    }
   ],
   "source": [
    "def enroll_student(student_name, course='Introduction to Python'):\n",
    "    print(\"Student Name: \" + student_name)\n",
    "    print(\"Enrolled Course: \" + course)\n",
    "enroll_student(student_name='Lina')\n",
    "enroll_student(student_name='Sara', course='Data Structures')\n"
   ]
  },
  {
   "cell_type": "code",
   "execution_count": 11,
   "id": "8fb927d8",
   "metadata": {},
   "outputs": [
    {
     "name": "stdout",
     "output_type": "stream",
     "text": [
      "Student Name: Ali\n",
      "Enrolled Course: Introduction to Python\n"
     ]
    }
   ],
   "source": [
    "enroll_student('Ali')"
   ]
  },
  {
   "cell_type": "code",
   "execution_count": 12,
   "id": "4d844f4a",
   "metadata": {},
   "outputs": [
    {
     "name": "stdout",
     "output_type": "stream",
     "text": [
      "Student Name: Ali,Physics\n",
      "Enrolled Course: Introduction to Python\n"
     ]
    }
   ],
   "source": [
    "enroll_student('Ali,Physics')"
   ]
  },
  {
   "cell_type": "markdown",
   "id": "f7957347",
   "metadata": {},
   "source": [
    "# Variable length Arguments *args"
   ]
  },
  {
   "cell_type": "code",
   "execution_count": 13,
   "id": "3e164d00",
   "metadata": {},
   "outputs": [
    {
     "name": "stdout",
     "output_type": "stream",
     "text": [
      "Student: Emily\n",
      "Enrolled in:\n",
      "- Biology 101\n",
      "- Chemistry 101\n",
      "- Physics 101\n"
     ]
    }
   ],
   "source": [
    "def enroll_in_courses(student_name, *courses):\n",
    "    print(\"Student: \" + student_name)\n",
    "    print(\"Enrolled in:\")\n",
    "    for course in courses:\n",
    "        print(\"- \" + course)\n",
    "enroll_in_courses('Emily', 'Biology 101', 'Chemistry 101', 'Physics 101')"
   ]
  },
  {
   "cell_type": "markdown",
   "id": "db274559",
   "metadata": {},
   "source": [
    "# Variable length Arguements **kwargs"
   ]
  },
  {
   "cell_type": "code",
   "execution_count": 14,
   "id": "44d1e9dd",
   "metadata": {},
   "outputs": [
    {
     "name": "stdout",
     "output_type": "stream",
     "text": [
      "Enrolling Smith with the following details:\n",
      "- Course: Algebra II\n",
      "- Semester: One\n",
      "- Payment Method: Credit Card\n"
     ]
    }
   ],
   "source": [
    "def enroll_student(student_name, **details):\n",
    "    print(\"Enrolling \" + student_name + \" with the following details:\")\n",
    "    for detail, value in details.items():\n",
    "        print(\"- \" + detail.replace('_', ' ').title() + \": \" + str(value))\n",
    "enroll_student('Smith', course='Algebra II', semester='One', payment_method='Credit Card')\n"
   ]
  },
  {
   "cell_type": "code",
   "execution_count": 15,
   "id": "e981f7a6",
   "metadata": {},
   "outputs": [],
   "source": [
    "def enroll_student(student_name, **details):\n",
    "    print(\"Enrolling \" + student_name + \" with the following details:\")\n",
    "    for key, value in details.items():\n",
    "        print(key + '=' + value)"
   ]
  },
  {
   "cell_type": "code",
   "execution_count": 16,
   "id": "8bd006ef",
   "metadata": {},
   "outputs": [
    {
     "name": "stdout",
     "output_type": "stream",
     "text": [
      "Enrolling Smith with the following details:\n",
      "course=Algebra II\n",
      "semester=One\n",
      "payment_method=Credit Card\n"
     ]
    }
   ],
   "source": [
    "enroll_student('Smith', course='Algebra II', semester='One', payment_method='Credit Card')"
   ]
  },
  {
   "cell_type": "code",
   "execution_count": 41,
   "id": "c96e8861",
   "metadata": {},
   "outputs": [
    {
     "ename": "SyntaxError",
     "evalue": "invalid syntax. Perhaps you forgot a comma? (1079757775.py, line 9)",
     "output_type": "error",
     "traceback": [
      "\u001b[1;36m  Cell \u001b[1;32mIn[41], line 9\u001b[1;36m\u001b[0m\n\u001b[1;33m    checkout_books('Mimi','1984','Brave New World', checkout_duration='3 weeks',late fee='$0.25', special_conditions='Handle with care')\u001b[0m\n\u001b[1;37m                                                                                ^\u001b[0m\n\u001b[1;31mSyntaxError\u001b[0m\u001b[1;31m:\u001b[0m invalid syntax. Perhaps you forgot a comma?\n"
     ]
    }
   ],
   "source": [
    "def checkout_books(librarian_name,*book_titles,checkout_duration='2 weeks',**details):\n",
    "    print('Checkout processed by: ' + librarian_name)\n",
    "    print('Books checked out: ')\n",
    "    for book in book_titles:\n",
    "        print('-' + book)\n",
    "    print('Checkout Duration: ' + checkout_duration)\n",
    "    for key, value in details.items():\n",
    "        print('-' + key + ':' + value) \n",
    "checkout_books('Mimi','1984','Brave New World', checkout_duration='3 weeks',latefee='$0.25', special_conditions='Handle with care')"
   ]
  },
  {
   "cell_type": "code",
   "execution_count": 40,
   "id": "8f838b38",
   "metadata": {},
   "outputs": [
    {
     "ename": "SyntaxError",
     "evalue": "invalid syntax. Perhaps you forgot a comma? (3146991065.py, line 5)",
     "output_type": "error",
     "traceback": [
      "\u001b[1;36m  Cell \u001b[1;32mIn[40], line 5\u001b[1;36m\u001b[0m\n\u001b[1;33m    checkout_books('Mimi',checkout_duration='3 weeks',late fee='$0.25', special conditions='Handle with care')\u001b[0m\n\u001b[1;37m                                                      ^\u001b[0m\n\u001b[1;31mSyntaxError\u001b[0m\u001b[1;31m:\u001b[0m invalid syntax. Perhaps you forgot a comma?\n"
     ]
    }
   ],
   "source": []
  },
  {
   "cell_type": "code",
   "execution_count": null,
   "id": "a8946351",
   "metadata": {},
   "outputs": [],
   "source": []
  }
 ],
 "metadata": {
  "kernelspec": {
   "display_name": "Python 3 (ipykernel)",
   "language": "python",
   "name": "python3"
  },
  "language_info": {
   "codemirror_mode": {
    "name": "ipython",
    "version": 3
   },
   "file_extension": ".py",
   "mimetype": "text/x-python",
   "name": "python",
   "nbconvert_exporter": "python",
   "pygments_lexer": "ipython3",
   "version": "3.11.5"
  }
 },
 "nbformat": 4,
 "nbformat_minor": 5
}
